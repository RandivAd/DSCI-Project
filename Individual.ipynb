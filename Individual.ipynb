{
 "cells": [
  {
   "cell_type": "markdown",
   "metadata": {},
   "source": [
    "# Individual Planning Report - Randiv Adhihetty"
   ]
  },
  {
   "cell_type": "markdown",
   "metadata": {},
   "source": [
    "### (1) Data Description"
   ]
  },
  {
   "cell_type": "markdown",
   "metadata": {},
   "source": [
    "##### (1.a) players.csv\n",
    "\n",
    "| Variable     | Data Type | Non-Null Count      | Mean     | Median | Standard Deviation | Min | Max   |\n",
    "| ------------ | ----------| ------------------- | -------- | ------ | ------------------ | --- | ----- |\n",
    "| experience   | character | 196                 | NA       | NA     | NA                 | NA  | NA    |\n",
    "| subscribe    | boolean   | 196                 | NA       | NA     | NA                 | NA  | NA    |\n",
    "| hashedEmail  | character | 196                 | NA       | NA     | NA                 | NA  | NA    |\n",
    "| played_hours | double    | 196                 | 5.8459   | 0.1    | 28.3573            | 0.0 | 223.1 |\n",
    "| name         | character | 196                 | NA       | NA     | NA                 | NA  | NA    |\n",
    "| gender       | character | 196                 | NA       | NA     | NA                 | NA  | NA    |\n",
    "| Age          | double    | 194 + (2 NA values) | 20.50206 | 19     | 6.1747             | 8   | 50    |\n",
    "\n",
    "Descriptions:\n",
    "- **Experiance**: Categorical names that indicate a player's experiance within Minecraft.\n",
    "- **Subscribe**: A boolean indication of whether the player is subscribed to Minecraft (or owns a copy of Minecraft).\n",
    "- **Hashed Email**: A unique hashed string used to identify players.\n",
    "- **Played hours**: Total number of hours played by the player.\n",
    "- **Name**: The players name.\n",
    "- **Gender**: The players gender.\n",
    "- **Age**: The player's age in years.\n",
    "\n",
    "Issues:\n",
    "- **Skewed hours**: The variable played_hours has skewed values as the median is 0.1 but the min and max being 0 and 223.1 respectively. \n",
    "- **Two Missing Age Values**: There are two players that have NAs for their age.\n",
    "\n",
    "How Data was collected:\n",
    "- The data was likely collected via a user registration form.\n"
   ]
  },
  {
   "cell_type": "markdown",
   "metadata": {},
   "source": [
    "##### (1.b) sessions.csv\n",
    "\n",
    "| Variable            | Data Type | Non-Null Count            | Mean     | Median   | Standard Deviation | Min      | Max      |\n",
    "| --------------------| --------- | ------------------------- | -------- | ---------| ------------------ | ---------| ---------|\n",
    "| hashedEmail         | character | 1535                      | NA       | NA       | NA                 | NA       | NA       |\n",
    "| start_time          | character | 1535                      | NA       | NA       | NA                 | NA       | NA       |\n",
    "| end_time            | character | 1533 + (2 missing values) | NA       | NA       | NA                 | NA       | NA       |\n",
    "| original_start_time | double    | 1535                      | 1.719e12 | 1.719e12 | 3.557e9            | 1.712e12 | 1.727e12 |\n",
    "| original_end_time   | double    | 1533 + (2 missing values) | 1.719e12 | 1.719e12 | 3.553e9            | 1.712e12 | 1.727e12 |\n",
    "\n",
    "Descriptions:\n",
    "- **Hashed Email**: A unique hashed string used to identify players.\n",
    "- **Start Time**: The start time of the session in the format DD/MM/YYYY HH:MM.\n",
    "- **End Time**: The end time of the session in the format DD/MM/YYYY HH:MM.\n",
    "- **Original Start Time**: The start time of the session in Unix timestamp format. \n",
    "- **Original End Time**: The end time of the session in Unix timestamp format. \n",
    "\n",
    "Issues:\n",
    "- **Original Start/End Time precision**: Unix time is not very precise, which may lead to some issues if used specifc calculations like getting the specific time of when a player ended a session.\n",
    "- **Start/End Time Format**: In the current format (DD/MM/YYYY HH:MM), it would be dificlut to perform specific operations like filtering sessions from specifc months.\n",
    "- **Two missing End Time and Original End Time Values**: There are two sessions that are missing their end_time and original_end_time values.\n",
    "\n",
    "How Data was collected:\n",
    "- The data was likely collected via an event loggin system that tracks when a user logs in and logs off."
   ]
  },
  {
   "cell_type": "markdown",
   "metadata": {},
   "source": [
    "### (2) Questions"
   ]
  },
  {
   "cell_type": "markdown",
   "metadata": {},
   "source": [
    "**Broad Question**: We would like to know which \"kinds\" of players are most likely to contribute a large amount of data so that we can target those players in our recruiting efforts.\n",
    "\n",
    "**Specific Question**: Can age, gender, and experiance in players predict played_hours in players?\n",
    "\n",
    "**How this can be answered**: Running a regression model with played_hours as the dependent variable and age, gender and experiance as the independent variable.\n",
    "\n",
    "**Wrangling data**:\n",
    "- Since there are two missing age values, those two players should be dropped.\n",
    "- If we wanted to look at age groups (eg 10-15,16-20, etc), then we should categorize them by grouping them into specific age ranges that we are intrested in.\n",
    "\n"
   ]
  },
  {
   "cell_type": "markdown",
   "metadata": {},
   "source": [
    "### (3) Exploratory Data Analysis and Visualization"
   ]
  },
  {
   "cell_type": "code",
   "execution_count": 6,
   "metadata": {},
   "outputs": [
    {
     "name": "stderr",
     "output_type": "stream",
     "text": [
      "── \u001b[1mAttaching core tidyverse packages\u001b[22m ──────────────────────── tidyverse 2.0.0 ──\n",
      "\u001b[32m✔\u001b[39m \u001b[34mdplyr    \u001b[39m 1.1.4     \u001b[32m✔\u001b[39m \u001b[34mreadr    \u001b[39m 2.1.5\n",
      "\u001b[32m✔\u001b[39m \u001b[34mforcats  \u001b[39m 1.0.0     \u001b[32m✔\u001b[39m \u001b[34mstringr  \u001b[39m 1.5.1\n",
      "\u001b[32m✔\u001b[39m \u001b[34mggplot2  \u001b[39m 3.5.1     \u001b[32m✔\u001b[39m \u001b[34mtibble   \u001b[39m 3.2.1\n",
      "\u001b[32m✔\u001b[39m \u001b[34mlubridate\u001b[39m 1.9.3     \u001b[32m✔\u001b[39m \u001b[34mtidyr    \u001b[39m 1.3.1\n",
      "\u001b[32m✔\u001b[39m \u001b[34mpurrr    \u001b[39m 1.0.2     \n",
      "── \u001b[1mConflicts\u001b[22m ────────────────────────────────────────── tidyverse_conflicts() ──\n",
      "\u001b[31m✖\u001b[39m \u001b[34mdplyr\u001b[39m::\u001b[32mfilter()\u001b[39m masks \u001b[34mstats\u001b[39m::filter()\n",
      "\u001b[31m✖\u001b[39m \u001b[34mdplyr\u001b[39m::\u001b[32mlag()\u001b[39m    masks \u001b[34mstats\u001b[39m::lag()\n",
      "\u001b[36mℹ\u001b[39m Use the conflicted package (\u001b[3m\u001b[34m<http://conflicted.r-lib.org/>\u001b[39m\u001b[23m) to force all conflicts to become errors\n"
     ]
    }
   ],
   "source": [
    "library(tidyverse)\n",
    "library(repr)"
   ]
  },
  {
   "cell_type": "code",
   "execution_count": 1,
   "metadata": {},
   "outputs": [
    {
     "ename": "ERROR",
     "evalue": "Error in eval(expr, envir, enclos): object 'players.csv' not found\n",
     "output_type": "error",
     "traceback": [
      "Error in eval(expr, envir, enclos): object 'players.csv' not found\nTraceback:\n",
      "1. download.file(\"https://canvas.ubc.ca/courses/153254/files/37600949/download?download_frd=1\", \n .     players.csv)"
     ]
    }
   ],
   "source": [
    "#Read in data\n",
    "players <- read_csv(\"data/players.csv\")\n",
    "#I don't need sessions for my question but I'll load it just incase it's needed for grading\n",
    "sessions <- read_csv(\"data/sessions.csv\")\n",
    "#Remove players with na values\n",
    "players <- players |>\n",
    "  filter(!is.na(Age))\n",
    "\n",
    "#Add new col for age groups\n",
    "players <- players |>\n",
    "    mutate(age_group = cut(\n",
    "        Age,\n",
    "        breaks = c(8, 12, 17 ,24 ,34, Inf),\n",
    "        labels = c(\"Child\", \"Teen\", \"Young Adult\", \"Adult\", \"Older Adult\")\n",
    "    ))\n",
    "\n",
    "#Get means of quantitative variables in players\n",
    "\n",
    "players_played_hours <- players |>\n",
    "    pull(played_hours)\n",
    "\n",
    "players_age <- players |>\n",
    "    pull(Age)\n",
    "\n",
    "mean_played_hour <- mean(players_played_hours, na.rm = TRUE)\n",
    "mean_age <- mean(players_age, na.rm = TRUE)\n",
    "\n",
    "mean_tibble <- tibble(mean_played_hours = mean_played_hour,\n",
    "                     mean_player_age = mean_age)\n",
    "\n",
    "mean_tibble\n",
    "\n",
    "#Exploratory visualizations\n",
    "\n",
    "#Age\n",
    "ggplot(players, aes(x = Age, y = played_hours)) +\n",
    "  geom_point(alpha = 0.7, aes(color = gender, shape = experience)) +\n",
    "  labs(title = \"Relationship Between Age and Played Hours\",\n",
    "        x = \"Age (years)\",\n",
    "        y = \"Time Played (hoursS)\",\n",
    "        color = \"Gender\",\n",
    "        shape = \"Experience\"\n",
    "      ) +\n",
    "  theme_minimal()\n",
    "\n",
    "#age_group\n",
    "ggplot(players, aes(x = age_group, y = played_hours)) +\n",
    "  geom_point(alpha = 0.7, aes(color = gender, shape = experience)) +\n",
    "  labs(title = \"Relationship Between Age and Played Hours\",\n",
    "        x = \"Age (years)\",\n",
    "        y = \"Time Played (hoursS)\",\n",
    "        color = \"Gender\",\n",
    "        shape = \"Experience\"\n",
    "      ) +\n",
    "  theme_minimal()"
   ]
  },
  {
   "cell_type": "markdown",
   "metadata": {},
   "source": [
    "Insights from the graph:\n",
    "- Most play time would be in the age range of 15 - 26\n",
    "- The outliers seem to have an experience level of \"regular\"\n",
    "- When it comes to the outliers, gender doesn't matter much."
   ]
  },
  {
   "cell_type": "markdown",
   "metadata": {},
   "source": [
    "### (4) Methods and Plan"
   ]
  },
  {
   "cell_type": "markdown",
   "metadata": {},
   "source": [
    "Method: Regression with multiple predictors\n",
    "\n",
    "Why is this method appropriate?\n",
    "- It handles both numeric and categorical precitors\n",
    "\n",
    "Which assumptions are required, if any, to apply the method selected?\n",
    "- We assume that there is some kind of relationship between the predictors and played hours\n",
    "\n",
    "What are the potential limitations or weaknesses of the method selected?\n",
    "- The played_hours outliers could infludence the regression fit (it could skew the result)\n",
    "\n",
    "How are you going to compare and select the model?\n",
    "- Using cross-validation.\n",
    "\n",
    "How are you going to process the data to apply the model? For example: Are you splitting the data? How?\n",
    "- Clean the data by removing players with NA values\n",
    "- Possibly remove outliers if regression is extremly skewed by it\n",
    "- split the data into ~75% training split and ~25% testing split"
   ]
  }
 ],
 "metadata": {
  "kernelspec": {
   "display_name": "R",
   "language": "R",
   "name": "ir"
  },
  "language_info": {
   "codemirror_mode": "r",
   "file_extension": ".r",
   "mimetype": "text/x-r-source",
   "name": "R",
   "pygments_lexer": "r",
   "version": "4.3.3"
  }
 },
 "nbformat": 4,
 "nbformat_minor": 4
}
